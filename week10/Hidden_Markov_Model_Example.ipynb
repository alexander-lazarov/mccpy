{
 "cells": [
  {
   "cell_type": "markdown",
   "metadata": {},
   "source": [
    "# Приложение на Hidden Markov Model"
   ]
  },
  {
   "cell_type": "markdown",
   "metadata": {},
   "source": [
    "Ще използвам пакета [hmmlearn](https://github.com/hmmlearn/hmmlearn).\n",
    "Документацията е на [тук](http://hmmlearn.readthedocs.io/en/stable/index.html), но описанието на алгоритъма се намира [тук](http://scikit-learn.sourceforge.net/stable/modules/hmm.html). Във втория параграф на последната връзка са описани трите начина, по които може да се ползва. Ние ще го ползваме по третия, а именно:\n",
    "- Given just the observed data, estimate the model parameters."
   ]
  },
  {
   "cell_type": "code",
   "execution_count": 86,
   "metadata": {},
   "outputs": [],
   "source": [
    "import numpy as np\n",
    "from hmmlearn.hmm import GaussianHMM\n",
    "import warnings\n",
    "warnings.filterwarnings('ignore')"
   ]
  },
  {
   "cell_type": "markdown",
   "metadata": {},
   "source": [
    "## Генериране на данните\n",
    "Ще генерираме синтетични данни по следния начин.\n",
    "- Първите 10% са нормално разпределени с очакване 0 и дисперсия 1\n",
    "- вторите 10% са нормално разпределени с очакване 1 и дисперсия 1\n",
    "и т.н.\n",
    "\n",
    "Ще ги интерпретираме като резултатите на **един** човек, който постоянно се подобрява на **един и същи** тип тест.\n",
    "Скалата, която получаваме по този начин е приблизително от -2 до 12. Разбира се случайни фактори могат да понижат или резулата му в близост до горното или долното ниво. Избрали сме стандартно отклонение 1, което значи че това се очаква да се случва в около 1/3 от наблюденията."
   ]
  },
  {
   "cell_type": "code",
   "execution_count": 87,
   "metadata": {},
   "outputs": [
    {
     "data": {
      "text/plain": [
       "<matplotlib.collections.PathCollection at 0x7febf4f002e8>"
      ]
     },
     "execution_count": 87,
     "metadata": {},
     "output_type": "execute_result"
    },
    {
     "data": {
      "image/png": "[encoded data removed]",
      "text/plain": [
       "<Figure size 432x288 with 1 Axes>"
      ]
     },
     "metadata": {},
     "output_type": "display_data"
    }
   ],
   "source": [
    "test_results = np.zeros((1000,1))\n",
    "step = 100\n",
    "for i in range(10):\n",
    "    test_results[(i*step):((i+1)*step)] = np.random.normal(loc=i, scale=1, size=(step,1))\n",
    "plt.scatter(range(len(test_results)), test_results)"
   ]
  },
  {
   "cell_type": "markdown",
   "metadata": {},
   "source": [
    "## Трениране на модела\n",
    "\n",
    "Дефинираме модела с 5 нива, които ще представляват оценката за прогреса на заболяването.\n",
    "Очакваме модела да даде ниво с очакване около\n",
    "- 0.5 на точки генерирани от 0,1\n",
    "- 2.5 на точки генерирани от 2,3\n",
    "- 4.5 на точки генерирани от 4,5\n",
    "- 6.5 на точки генерирани от 6,7\n",
    "- 8.5 на точки генерирани от 8,9\n",
    "\n",
    "Забележете, че аргумента на fit са само резултатите test_results, но не и лейбълите, от които идват."
   ]
  },
  {
   "cell_type": "code",
   "execution_count": 92,
   "metadata": {},
   "outputs": [
    {
     "name": "stdout",
     "output_type": "stream",
     "text": [
      "fitting to HMM and decoding ...done\n"
     ]
    }
   ],
   "source": [
    "print(\"fitting to HMM and decoding ...\", end=\"\")\n",
    "\n",
    "# Make an HMM instance and execute fit\n",
    "model = GaussianHMM(n_components=5, covariance_type=\"diag\", n_iter=10000).fit(test_results)\n",
    "\n",
    "# Predict the optimal sequence of internal hidden state\n",
    "hidden_states = model.predict(X)\n",
    "\n",
    "print(\"done\")"
   ]
  },
  {
   "cell_type": "code",
   "execution_count": 94,
   "metadata": {},
   "outputs": [
    {
     "name": "stdout",
     "output_type": "stream",
     "text": [
      "Transition matrix\n",
      "[[9.94961830e-001 2.89808838e-133 3.79227579e-005 5.00024685e-003\n",
      "  7.38935292e-188]\n",
      " [9.35670835e-051 9.88829576e-001 1.68535198e-094 3.68872029e-019\n",
      "  1.11704238e-002]\n",
      " [5.04802223e-003 7.91020083e-197 9.94951978e-001 3.09660203e-052\n",
      "  1.26459575e-272]\n",
      " [6.52552887e-019 5.03403216e-003 2.07779666e-044 9.94965968e-001\n",
      "  3.30832978e-043]\n",
      " [7.27081794e-096 4.84663989e-003 2.28324941e-144 4.81620766e-044\n",
      "  9.95153360e-001]]\n",
      "\n",
      "Means and vars of each hidden state\n",
      "0th hidden state\n",
      "mean =  [2.49634214]\n",
      "var =  [1.06679781]\n",
      "\n",
      "1th hidden state\n",
      "mean =  [6.45630335]\n",
      "var =  [1.03518404]\n",
      "\n",
      "2th hidden state\n",
      "mean =  [0.48558094]\n",
      "var =  [1.34490814]\n",
      "\n",
      "3th hidden state\n",
      "mean =  [4.49536188]\n",
      "var =  [1.18183222]\n",
      "\n",
      "4th hidden state\n",
      "mean =  [8.47558369]\n",
      "var =  [1.38130708]\n",
      "\n"
     ]
    }
   ],
   "source": [
    "print(\"Transition matrix\")\n",
    "print(model.transmat_)\n",
    "print()\n",
    "\n",
    "print(\"Means and vars of each hidden state\")\n",
    "for i in range(model.n_components):\n",
    "    print(\"{0}th hidden state\".format(i))\n",
    "    print(\"mean = \", model.means_[i])\n",
    "    print(\"var = \", np.diag(model.covars_[i]))\n",
    "    print()"
   ]
  },
  {
   "cell_type": "markdown",
   "metadata": {},
   "source": [
    "## Предвиждане\n",
    "\n",
    "Нека видим как са класифицирани отделните наблюдения:"
   ]
  },
  {
   "cell_type": "code",
   "execution_count": 95,
   "metadata": {},
   "outputs": [],
   "source": [
    "state_sequence = model.predict(test_results)"
   ]
  },
  {
   "cell_type": "code",
   "execution_count": 96,
   "metadata": {},
   "outputs": [
    {
     "data": {
      "text/plain": [
       "[<matplotlib.lines.Line2D at 0x7febf4e3c400>]"
      ]
     },
     "execution_count": 96,
     "metadata": {},
     "output_type": "execute_result"
    },
    {
     "data": {
      "image/png": "[encoded data removed]",
      "text/plain": [
       "<Figure size 432x288 with 1 Axes>"
      ]
     },
     "metadata": {},
     "output_type": "display_data"
    }
   ],
   "source": [
    "plt.plot(range(len(state_sequence)), model.means_[state_sequence])"
   ]
  },
  {
   "cell_type": "markdown",
   "metadata": {},
   "source": [
    "Началото и края са доста добре оценени. Около наблюдение 500 има известно колебание за класа на наблюденията, но като цяло няма фрапантни грешки.\n",
    "\n",
    "T.e. научихме, как да разделим резултатите, без да знаем, от каква дистрибуция идват. "
   ]
  },
  {
   "cell_type": "code",
   "execution_count": null,
   "metadata": {},
   "outputs": [],
   "source": []
  }
 ],
 "metadata": {
  "kernelspec": {
   "display_name": "Python 3",
   "language": "python",
   "name": "python3"
  },
  "language_info": {
   "codemirror_mode": {
    "name": "ipython",
    "version": 3
   },
   "file_extension": ".py",
   "mimetype": "text/x-python",
   "name": "python",
   "nbconvert_exporter": "python",
   "pygments_lexer": "ipython3",
   "version": "3.6.3"
  }
 },
 "nbformat": 4,
 "nbformat_minor": 2
}
